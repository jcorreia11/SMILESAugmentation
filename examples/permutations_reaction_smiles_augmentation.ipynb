{
 "cells": [
  {
   "cell_type": "markdown",
   "source": [
    "# Reaction SMILES Augmentation Using Permutations Example"
   ],
   "metadata": {
    "collapsed": false,
    "pycharm": {
     "name": "#%% md\n"
    }
   }
  },
  {
   "cell_type": "markdown",
   "source": [
    "#### This example shows how to augment a Reaction SMILES dataset using SMILESAugmentation (Permutations)."
   ],
   "metadata": {
    "collapsed": false,
    "pycharm": {
     "name": "#%% md\n"
    }
   }
  },
  {
   "cell_type": "code",
   "execution_count": 3,
   "outputs": [],
   "source": [
    "import pandas as pd\n",
    "\n",
    "from smiles_augmentation.reaction_smiles_enumerator import PermutationsReactionSmilesEnumerator"
   ],
   "metadata": {
    "collapsed": false,
    "pycharm": {
     "name": "#%%\n"
    }
   }
  },
  {
   "cell_type": "markdown",
   "source": [
    "**Load the reaction SMILES data:**"
   ],
   "metadata": {
    "collapsed": false,
    "pycharm": {
     "name": "#%% md\n"
    }
   }
  },
  {
   "cell_type": "code",
   "execution_count": 2,
   "outputs": [
    {
     "data": {
      "text/plain": "array(['CC(C)C[Mg+].CON(C)C(=O)c1ccc(O)nc1>>CC(C)CC(=O)c1ccc(O)nc1',\n       'CN.O=C(O)c1ccc(Cl)c([N+](=O)[O-])c1>>CNc1ccc(C(=O)O)cc1[N+](=O)[O-]',\n       'CCn1cc(C(=O)O)c(=O)c2cc(F)c(-c3ccc(N)cc3)cc21.O=CO>>CCn1cc(C(=O)O)c(=O)c2cc(F)c(-c3ccc(NC=O)cc3)cc21',\n       'COCC(C)Oc1cc(Oc2cnc(C(=O)N3CCC3)cn2)cc(C(=O)O)c1.Cc1cnc(N)cn1>>COCC(C)Oc1cc(Oc2cnc(C(=O)N3CCC3)cn2)cc(C(=O)Nc2cnc(C)cn2)c1',\n       'Clc1cc2c(Cl)nc(-c3ccncc3)nc2s1.NCc1ccc(Cl)c(Cl)c1>>Clc1cc2c(NCc3ccc(Cl)c(Cl)c3)nc(-c3ccncc3)nc2s1',\n       'Cc1c(Cl)nnc(C(C#N)c2ccc(F)c(C#N)c2)c1C>>Cc1c(Cl)nnc(Cc2ccc(F)c(C#N)c2)c1C',\n       'CC(N)c1ccc(F)c(Cl)c1.O=C(N1CCc2ccc(Cl)c(OS(=O)(=O)C(F)(F)F)c2CC1)C(F)(F)F>>CC(Nc1c(Cl)ccc2c1CCN(C(=O)C(F)(F)F)CC2)c1ccc(F)c(Cl)c1',\n       'CC(C)N1CCN(C(=O)c2ccc3[nH]c(C(=O)N4CCN(S(C)(=O)=O)CC4)cc3c2)CC1.CCOC(=O)N1CCNCC1>>CCOC(=O)N1CCN(C(=O)c2cc3cc(C(=O)N4CCN(C(C)C)CC4)ccc3[nH]2)CC1',\n       'CC(C(=O)O)C(=O)NCc1ccc(F)cc1.CN1C(=O)C(N)c2ccccc2-c2ccccc21>>CC(C(=O)NCc1ccc(F)cc1)C(=O)NC1C(=O)N(C)c2ccccc2-c2ccccc21',\n       'CC(=O)N1CCN(c2ccc(N)nc2)CC1.O=C(O)Cc1ccc(Br)c(C(F)(F)F)c1>>CC(=O)N1CCN(c2ccc(NC(=O)Cc3ccc(Br)c(C(F)(F)F)c3)nc2)CC1'],\n      dtype=object)"
     },
     "execution_count": 2,
     "metadata": {},
     "output_type": "execute_result"
    }
   ],
   "source": [
    "reaction_smiles = pd.read_csv('data/reactions.csv').reaction_SMILES.values\n",
    "reaction_smiles"
   ],
   "metadata": {
    "collapsed": false,
    "pycharm": {
     "name": "#%%\n"
    }
   }
  },
  {
   "cell_type": "markdown",
   "source": [
    "**Create an PermutationsReactionSmilesEnumerator object and enumerate the reaction SMILES by calling the enumerate method:**\n",
    "\n",
    "You can define if you want to keep or remove duplicates, define a seed for reproducibility, the number of jobs to run in parallel, the level of verbosity and the maximum number of SMILES to enumerate.\n",
    "\n",
    "It permutates both reactants and products."
   ],
   "metadata": {
    "collapsed": false,
    "pycharm": {
     "name": "#%% md\n"
    }
   }
  },
  {
   "cell_type": "code",
   "execution_count": 4,
   "outputs": [
    {
     "data": {
      "text/plain": "[['CON(C)C(=O)c1ccc(O)nc1.CC(C)C[Mg+]>>CC(C)CC(=O)c1ccc(O)nc1',\n  'CC(C)C[Mg+].CON(C)C(=O)c1ccc(O)nc1>>CC(C)CC(=O)c1ccc(O)nc1'],\n ['CN.O=C(O)c1ccc(Cl)c([N+](=O)[O-])c1>>CNc1ccc(C(=O)O)cc1[N+](=O)[O-]',\n  'O=C(O)c1ccc(Cl)c([N+](=O)[O-])c1.CN>>CNc1ccc(C(=O)O)cc1[N+](=O)[O-]'],\n ['O=CO.CCn1cc(C(=O)O)c(=O)c2cc(F)c(-c3ccc(N)cc3)cc21>>CCn1cc(C(=O)O)c(=O)c2cc(F)c(-c3ccc(NC=O)cc3)cc21',\n  'CCn1cc(C(=O)O)c(=O)c2cc(F)c(-c3ccc(N)cc3)cc21.O=CO>>CCn1cc(C(=O)O)c(=O)c2cc(F)c(-c3ccc(NC=O)cc3)cc21'],\n ['COCC(C)Oc1cc(Oc2cnc(C(=O)N3CCC3)cn2)cc(C(=O)O)c1.Cc1cnc(N)cn1>>COCC(C)Oc1cc(Oc2cnc(C(=O)N3CCC3)cn2)cc(C(=O)Nc2cnc(C)cn2)c1',\n  'Cc1cnc(N)cn1.COCC(C)Oc1cc(Oc2cnc(C(=O)N3CCC3)cn2)cc(C(=O)O)c1>>COCC(C)Oc1cc(Oc2cnc(C(=O)N3CCC3)cn2)cc(C(=O)Nc2cnc(C)cn2)c1'],\n ['NCc1ccc(Cl)c(Cl)c1.Clc1cc2c(Cl)nc(-c3ccncc3)nc2s1>>Clc1cc2c(NCc3ccc(Cl)c(Cl)c3)nc(-c3ccncc3)nc2s1',\n  'Clc1cc2c(Cl)nc(-c3ccncc3)nc2s1.NCc1ccc(Cl)c(Cl)c1>>Clc1cc2c(NCc3ccc(Cl)c(Cl)c3)nc(-c3ccncc3)nc2s1'],\n ['Cc1c(Cl)nnc(C(C#N)c2ccc(F)c(C#N)c2)c1C>>Cc1c(Cl)nnc(Cc2ccc(F)c(C#N)c2)c1C'],\n ['CC(N)c1ccc(F)c(Cl)c1.O=C(N1CCc2ccc(Cl)c(OS(=O)(=O)C(F)(F)F)c2CC1)C(F)(F)F>>CC(Nc1c(Cl)ccc2c1CCN(C(=O)C(F)(F)F)CC2)c1ccc(F)c(Cl)c1',\n  'O=C(N1CCc2ccc(Cl)c(OS(=O)(=O)C(F)(F)F)c2CC1)C(F)(F)F.CC(N)c1ccc(F)c(Cl)c1>>CC(Nc1c(Cl)ccc2c1CCN(C(=O)C(F)(F)F)CC2)c1ccc(F)c(Cl)c1'],\n ['CC(C)N1CCN(C(=O)c2ccc3[nH]c(C(=O)N4CCN(S(C)(=O)=O)CC4)cc3c2)CC1.CCOC(=O)N1CCNCC1>>CCOC(=O)N1CCN(C(=O)c2cc3cc(C(=O)N4CCN(C(C)C)CC4)ccc3[nH]2)CC1',\n  'CCOC(=O)N1CCNCC1.CC(C)N1CCN(C(=O)c2ccc3[nH]c(C(=O)N4CCN(S(C)(=O)=O)CC4)cc3c2)CC1>>CCOC(=O)N1CCN(C(=O)c2cc3cc(C(=O)N4CCN(C(C)C)CC4)ccc3[nH]2)CC1'],\n ['CC(C(=O)O)C(=O)NCc1ccc(F)cc1.CN1C(=O)C(N)c2ccccc2-c2ccccc21>>CC(C(=O)NCc1ccc(F)cc1)C(=O)NC1C(=O)N(C)c2ccccc2-c2ccccc21',\n  'CN1C(=O)C(N)c2ccccc2-c2ccccc21.CC(C(=O)O)C(=O)NCc1ccc(F)cc1>>CC(C(=O)NCc1ccc(F)cc1)C(=O)NC1C(=O)N(C)c2ccccc2-c2ccccc21'],\n ['O=C(O)Cc1ccc(Br)c(C(F)(F)F)c1.CC(=O)N1CCN(c2ccc(N)nc2)CC1>>CC(=O)N1CCN(c2ccc(NC(=O)Cc3ccc(Br)c(C(F)(F)F)c3)nc2)CC1',\n  'CC(=O)N1CCN(c2ccc(N)nc2)CC1.O=C(O)Cc1ccc(Br)c(C(F)(F)F)c1>>CC(=O)N1CCN(c2ccc(NC(=O)Cc3ccc(Br)c(C(F)(F)F)c3)nc2)CC1']]"
     },
     "execution_count": 4,
     "metadata": {},
     "output_type": "execute_result"
    }
   ],
   "source": [
    "enumerator = PermutationsReactionSmilesEnumerator(reaction_smiles=reaction_smiles, remove_duplicates=True, seed=123, n_jobs=1, verbose=0)\n",
    "enumerated_reaction_smiles = enumerator.enumerate(n_max=10)\n",
    "enumerated_reaction_smiles"
   ],
   "metadata": {
    "collapsed": false,
    "pycharm": {
     "name": "#%%\n"
    }
   }
  },
  {
   "cell_type": "markdown",
   "source": [
    "**Let’s see the enumerated reaction SMILES for the first reaction:**"
   ],
   "metadata": {
    "collapsed": false,
    "pycharm": {
     "name": "#%% md\n"
    }
   }
  },
  {
   "cell_type": "code",
   "execution_count": 6,
   "outputs": [
    {
     "name": "stdout",
     "output_type": "stream",
     "text": [
      "Original reaction SMILES: CC(C)C[Mg+].CON(C)C(=O)c1ccc(O)nc1>>CC(C)CC(=O)c1ccc(O)nc1\n",
      "New enumerated SMILES: ['CON(C)C(=O)c1ccc(O)nc1.CC(C)C[Mg+]>>CC(C)CC(=O)c1ccc(O)nc1', 'CC(C)C[Mg+].CON(C)C(=O)c1ccc(O)nc1>>CC(C)CC(=O)c1ccc(O)nc1']\n"
     ]
    }
   ],
   "source": [
    "original_reaction_smiles = reaction_smiles[0]\n",
    "print(f\"Original reaction SMILES: {original_reaction_smiles}\")\n",
    "\n",
    "new_enumerated_reaction_smiles = enumerated_reaction_smiles[0]\n",
    "print(f\"New enumerated SMILES: {new_enumerated_reaction_smiles}\")"
   ],
   "metadata": {
    "collapsed": false,
    "pycharm": {
     "name": "#%%\n"
    }
   }
  }
 ],
 "metadata": {
  "kernelspec": {
   "display_name": "Python 3",
   "language": "python",
   "name": "python3"
  },
  "language_info": {
   "codemirror_mode": {
    "name": "ipython",
    "version": 2
   },
   "file_extension": ".py",
   "mimetype": "text/x-python",
   "name": "python",
   "nbconvert_exporter": "python",
   "pygments_lexer": "ipython2",
   "version": "2.7.6"
  }
 },
 "nbformat": 4,
 "nbformat_minor": 0
}