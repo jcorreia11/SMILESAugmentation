{
 "cells": [
  {
   "cell_type": "markdown",
   "source": [
    "# SELFIES Augmentation Example"
   ],
   "metadata": {
    "collapsed": false,
    "pycharm": {
     "name": "#%% md\n"
    }
   }
  },
  {
   "cell_type": "markdown",
   "source": [
    "#### This example shows how to augment SELFIES strings using the SMILESAugmentation tool."
   ],
   "metadata": {
    "collapsed": false,
    "pycharm": {
     "name": "#%% md\n"
    }
   }
  },
  {
   "cell_type": "code",
   "execution_count": 43,
   "outputs": [],
   "source": [
    "import pandas as pd\n",
    "\n",
    "from smiles_augmentation.selfies_enumerators import SelfiesRandomizer"
   ],
   "metadata": {
    "collapsed": false,
    "pycharm": {
     "name": "#%%\n"
    }
   }
  },
  {
   "cell_type": "markdown",
   "source": [
    "**Load the SMILES data:**"
   ],
   "metadata": {
    "collapsed": false,
    "pycharm": {
     "name": "#%% md\n"
    }
   }
  },
  {
   "cell_type": "code",
   "execution_count": 44,
   "outputs": [
    {
     "data": {
      "text/plain": "array(['[C][=C][C][=C][Branch1][Branch1][C][=C][Ring1][=Branch1][C][=C][C][=C][C][=C][Ring1][=Branch1][C][=Branch1][C][=O][N][C][=C][C][=Branch1][=Branch2][=C][Branch1][Branch1][C][=C][Ring1][=Branch1][F][F]',\n       '[F][C][=C][C][=C][Branch2][Ring1][=Branch2][N][C][Branch2][Ring1][Ring1][C][=C][Branch1][=Branch2][C][=C][C][=C][C][=C][Ring1][=Branch1][C][=C][C][=C][Ring1][N][=O][C][=C][Ring2][Ring1][Branch1][F]',\n       '[C][N][C][Branch1][C][P][C][C][Ring1][=Branch1]', '[C][O][C][F]',\n       '[C][O][C][=Branch1][C][=O][C][C][C][N][Branch2][Ring2][Ring2][C][C][O][C][C][Branch2][Ring1][O][C][Branch2][Ring1][Branch1][O][C][Ring1][Branch1][N][C][=N][C][=C][Branch1][=Branch2][N][=C][N][=C][Ring1][=Branch1][Ring1][=Branch2][N][C][O][O][C][C][C][Branch2][Ring1][N][C][Branch2][Ring1][#Branch1][C][Branch1][Ring2][O][Ring1][Branch1][N][C][=N][C][=C][Branch1][=Branch2][N][=C][N][=C][Ring1][=Branch1][Ring1][=Branch2][N][O][O]',\n       '[C][C][C][=Branch1][C][=O][O][C][C]',\n       '[C][C][C][C][Branch1][Ring2][C][Ring1][Branch1][N][C][=Branch1][C][=O][C][S][C][=N][C][=C][N][Ring1][Branch1][C][C][=C][C][=C][C][=C][Ring1][=Branch1]',\n       '[C][C][C][C][C][C][Branch2][Ring1][=Branch1][N][Ring1][=Branch1][N][C][=Branch1][C][=S][N][C][=C][C][=C][Branch1][Branch1][C][=C][Ring1][=Branch1][O][C][C]',\n       '[C][C][=Branch1][C][=O][O]',\n       '[C][=C][C][=C][C][=C][Ring1][=Branch1]'], dtype=object)"
     },
     "execution_count": 44,
     "metadata": {},
     "output_type": "execute_result"
    }
   ],
   "source": [
    "selfies = pd.read_csv('data/selfies.csv').SELFIES.values\n",
    "selfies"
   ],
   "metadata": {
    "collapsed": false,
    "pycharm": {
     "name": "#%%\n"
    }
   }
  },
  {
   "cell_type": "markdown",
   "source": [
    "**Create an SelfiesRandomizer object and enumerate the SELFIES by calling the enumerate method:**\n",
    "\n",
    "You can define if you want to keep or remove duplicates, define a seed for reproducibility, the number of jobs to run in parallel, the level of verbosity and the maximum number of SMILES to enumerate."
   ],
   "metadata": {
    "collapsed": false,
    "pycharm": {
     "name": "#%% md\n"
    }
   }
  },
  {
   "cell_type": "code",
   "execution_count": 45,
   "outputs": [
    {
     "data": {
      "text/plain": "[['[C][=C][Branch2][Ring1][#C][C][Branch1][C][F][=C][C][=C][Ring1][#Branch1][N][C][=Branch1][C][=O][C][=C][C][=C][C][=C][Ring1][=Branch1][C][=C][C][=C][C][=C][Ring1][=Branch1][F]',\n  '[N][Branch2][Ring1][Branch1][C][=Branch1][C][=O][C][=C][C][=C][C][=C][Ring1][=Branch1][C][=C][C][=C][C][=C][Ring1][=Branch1][C][=C][C][Branch1][C][F][=C][Branch1][C][F][C][=C][Ring1][Branch2]',\n  '[C][Branch2][Ring1][=C][C][=C][Branch1][#Branch1][C][=C][C][=C][Ring1][=Branch1][C][Branch1][S][N][C][=C][C][Branch1][C][F][=C][Branch1][Branch1][C][=C][Ring1][#Branch1][F][=O][=C][C][=C][C][=C][Ring2][Ring1][#Branch1]',\n  '[C][=C][C][=C][C][=C][Ring1][=Branch1][C][=C][C][=C][C][=C][Ring1][=Branch1][C][=Branch1][C][=O][N][C][=C][C][=C][Branch1][Branch2][C][=Branch1][Ring2][=C][Ring1][=Branch1][F][F]',\n  '[C][=Branch2][Ring2][C][=C][C][=Branch1][#Branch1][=C][C][=C][Ring1][=Branch1][F][N][C][=Branch1][C][=O][C][=C][Branch1][#Branch1][C][=C][C][=C][Ring1][=Branch1][C][=C][C][=C][C][=C][Ring1][=Branch1][F]',\n  '[O][=C][Branch1][P][C][=C][C][=C][C][=C][Ring1][=Branch1][C][=C][C][=C][C][=C][Ring1][=Branch1][N][C][=C][C][=C][Branch1][Branch2][C][=Branch1][Ring2][=C][Ring1][=Branch1][F][F]',\n  '[C][=Branch2][Ring2][Branch1][=C][Branch1][C][F][C][=C][Branch1][Branch1][C][=C][Ring1][#Branch1][N][C][Branch2][Ring1][Ring1][C][=C][Branch1][=Branch2][C][=C][C][=C][C][=C][Ring1][=Branch1][C][=C][C][=C][Ring1][N][=O][F]',\n  '[C][Branch1][S][N][C][=C][C][=Branch1][=Branch2][=C][Branch1][C][F][C][=C][Ring1][#Branch1][F][Branch2][Ring1][Ring1][C][=C][Branch1][#Branch1][C][=C][C][=C][Ring1][=Branch1][C][=C][C][=C][C][=C][Ring1][=Branch1][=O]',\n  '[F][C][=C][C][=C][Branch2][Ring1][=Branch2][N][C][Branch2][Ring1][Ring1][C][=C][Branch1][=Branch2][C][=C][C][=C][C][=C][Ring1][=Branch1][C][=C][C][=C][Ring1][N][=O][C][=C][Ring2][Ring1][Branch1][F]',\n  '[C][=C][C][Branch2][Ring1][=Branch2][N][C][Branch2][Ring1][Ring1][C][=C][Branch1][=Branch2][C][=C][C][=C][C][=C][Ring1][=Branch1][C][=C][C][=C][Ring1][N][=O][=C][C][=Branch1][=Branch1][=C][Ring2][Ring1][Branch1][F][F]'],\n ['[C][=C][Branch1][=N][C][=C][Branch1][Branch2][C][=Branch1][Ring2][=C][Ring1][=Branch1][F][F][N][C][Branch2][Ring1][Ring1][C][=C][Branch1][=Branch2][C][=C][C][=C][C][=C][Ring1][=Branch1][C][=C][C][=C][Ring1][N][=O]',\n  '[O][=C][Branch1][S][N][C][=C][C][=C][Branch1][Branch2][C][Branch1][C][F][=C][Ring1][#Branch1][F][C][=C][C][=C][C][=C][Ring1][=Branch1][C][=C][C][=C][C][=C][Ring1][=Branch1]',\n  '[C][Branch1][C][F][=C][C][Branch2][Ring1][=Branch2][N][C][Branch2][Ring1][Ring1][C][=C][Branch1][#Branch1][C][=C][C][=C][Ring1][=Branch1][C][=C][C][=C][C][=C][Ring1][=Branch1][=O][=C][C][=C][Ring2][Ring1][=Branch1][F]',\n  '[C][=C][C][=C][C][=C][Ring1][=Branch1][C][=C][C][=C][C][=C][Ring1][=Branch1][C][=Branch1][C][=O][N][C][=C][C][=C][Branch1][C][F][C][=Branch1][Ring2][=C][Ring1][#Branch1][F]',\n  '[C][=C][Branch2][Ring2][=Branch1][C][Branch1][C][F][=C][C][Branch2][Ring1][=Branch2][N][C][Branch2][Ring1][Ring1][C][=C][Branch1][=Branch2][C][=C][C][=C][C][=C][Ring1][=Branch1][C][=C][C][=C][Ring1][N][=O][=C][Ring2][Ring1][=Branch1][F]',\n  '[C][=C][C][=C][C][=Branch2][Ring1][#Branch1][=C][Ring1][=Branch1][C][=Branch1][C][=O][N][C][=C][C][=C][Branch1][Branch2][C][=Branch1][Ring2][=C][Ring1][=Branch1][F][F][C][=C][C][=C][C][=C][Ring1][=Branch1]',\n  '[C][=C][C][=C][Branch1][#C][C][Branch1][=Branch2][C][=C][C][=C][C][=C][Ring1][=Branch1][=C][Ring1][N][C][=Branch1][C][=O][N][C][=C][C][=C][Branch1][C][F][C][Branch1][C][F][=C][Ring1][Branch2]',\n  '[C][=C][C][=Branch1][=Branch1][=C][C][=C][Ring1][=Branch1][C][=C][Branch2][Ring1][Ring2][C][=Branch1][C][=O][N][C][=C][C][=C][Branch1][C][F][C][Branch1][C][F][=C][Ring1][Branch2][C][=C][C][=C][Ring1][P]',\n  '[C][=C][C][=C][Branch1][Branch1][C][=C][Ring1][=Branch1][C][=C][Branch2][Ring1][Ring2][C][=Branch1][C][=O][N][C][=C][C][=C][Branch1][Branch2][C][Branch1][C][F][=C][Ring1][#Branch1][F][C][=C][C][=C][Ring1][P]',\n  '[C][=C][C][=C][Branch1][=Branch2][C][=C][C][=C][C][=C][Ring1][=Branch1][C][Branch2][Ring1][Ring2][C][=Branch1][C][=O][N][C][=C][C][=C][Branch1][C][F][C][=Branch1][Ring2][=C][Ring1][#Branch1][F][=C][Ring2][Ring1][#Branch1]'],\n ['[C][N][C][Branch1][Branch1][C][C][Ring1][Branch1][P]',\n  '[C][C][C][C][Branch1][Ring2][N][Ring1][Branch1][P]',\n  '[P][C][C][C][C][N][Ring1][Branch1]',\n  '[C][C][Branch1][=Branch1][N][C][C][Ring1][Branch1][P]',\n  '[C][Branch1][C][P][N][C][C][C][Ring1][=Branch1]',\n  '[C][N][C][Branch1][C][P][C][C][Ring1][=Branch1]',\n  '[C][C][C][N][C][Ring1][Branch1][P]'],\n ['[C][Branch1][Ring1][O][C][F]',\n  '[F][C][O][C]',\n  '[C][Branch1][C][F][O][C]',\n  '[O][Branch1][Ring1][C][F][C]',\n  '[C][O][C][F]',\n  '[O][Branch1][C][C][C][F]'],\n ['[C][Branch1][P][N][C][=N][C][=C][Branch1][=Branch2][N][=C][N][=C][Ring1][=Branch2][Ring1][=Branch1][N][C][Branch1][C][O][C][Branch2][Branch1][Branch2][C][Branch2][Ring2][S][C][N][Branch2][Ring2][C][C][C][O][C][C][Branch1][O][O][C][Branch1][Ring1][C][O][C][Ring1][#Branch1][O][N][C][=N][C][=N][C][Branch1][C][N][=C][Ring1][#Branch1][N][=C][Ring1][#Branch2][C][C][C][C][Branch1][Ring1][O][C][=O][O][Ring2][Ring2][=C][O]',\n  '[N][=C][C][=Branch1][=Branch2][=C][Branch1][C][N][N][=C][Ring1][#Branch1][N][=C][N][Ring1][=Branch2][C][O][C][Branch1][Ring1][C][O][C][Branch2][Ring2][S][C][Ring1][#Branch1][O][C][C][N][Branch2][Ring1][=N][C][C][O][C][Branch1][#C][N][C][=N][C][=C][Ring1][Branch1][N][=C][N][=C][Ring1][=Branch1][N][C][Branch1][Branch1][C][Ring1][#C][O][O][C][C][C][C][Branch1][Ring1][O][C][=O][O]',\n  '[O][C][C][C][Branch1][C][O][C][Branch2][Ring1][#Branch1][C][Branch1][Ring2][O][Ring1][=Branch1][N][C][=N][C][=N][C][Branch1][C][N][=C][Ring1][#Branch1][N][=C][Ring1][#Branch2][O][C][C][N][Branch1][#Branch2][C][C][C][C][Branch1][Ring1][O][C][=O][C][C][O][C][Branch1][=Branch2][C][Branch1][C][O][C][Ring1][=Branch1][O][N][C][=N][C][=C][Ring1][Branch1][N][=C][N][=C][Ring1][=Branch1][N]',\n  '[C][Branch2][Ring2][=C][N][Branch1][#Branch2][C][C][C][C][=Branch1][C][=O][O][C][C][C][O][C][C][Branch1][O][O][C][Branch1][Ring1][C][O][C][Ring1][#Branch1][O][N][C][=N][C][=N][C][Branch1][C][N][=C][Ring1][#Branch1][N][=C][Ring1][#Branch2][C][O][C][Branch1][#C][N][C][=N][C][=C][Ring1][Branch1][N][=C][N][=C][Ring1][=Branch1][N][C][Branch1][C][O][C][Ring1][S][O]',\n  '[O][C][C][Branch2][=Branch1][O][O][C][Branch2][Branch1][=Branch1][C][Ring1][Branch1][O][C][C][N][Branch2][Ring2][Ring1][C][C][C][Branch2][Ring1][N][C][Branch2][Ring1][#Branch1][C][Branch1][Ring2][O][Ring1][Branch1][N][C][=N][C][=N][C][=Branch1][Branch2][=C][Ring1][=Branch1][N][=C][Ring1][=Branch2][N][O][O][C][C][C][C][Branch1][Ring1][O][C][=O][N][C][=N][C][=C][Branch1][=Branch2][N][=C][N][=C][Ring1][=Branch2][Ring1][=Branch1][N][C][O]',\n  '[C][Branch2][Ring2][#C][O][C][C][N][Branch1][#Branch2][C][C][C][C][=Branch1][C][=O][O][C][C][C][C][Branch1][C][O][C][Branch2][Ring1][Branch1][C][Branch1][#C][N][C][=N][C][=C][Ring1][Branch1][N][=C][N][=C][Ring1][=Branch1][N][O][Ring1][S][O][C][Branch1][P][N][C][=N][C][=N][C][=Branch1][Branch2][=C][Ring1][=Branch1][N][=C][Ring1][=Branch2][N][O][C][Branch1][=Branch1][C][Ring2][Ring2][N][O][C][O]',\n  '[C][=N][C][=N][C][=Branch2][=Branch1][C][=C][Ring1][=Branch1][N][=C][N][Ring1][=Branch2][C][O][C][Branch1][=Branch2][C][Branch1][Branch1][C][Ring1][Branch1][O][O][C][N][Branch1][#Branch2][C][C][C][C][=Branch1][C][=O][O][C][C][C][O][C][C][Branch1][#C][N][C][=N][C][=C][Ring1][Branch1][N][=C][N][=C][Ring1][=Branch1][N][O][C][Branch1][Ring1][C][O][C][Ring1][P][O][N]',\n  '[O][C][C][C][Branch2][=Branch1][N][C][Branch2][Branch1][Ring1][O][C][C][N][Branch2][Ring2][Ring1][C][C][C][Branch2][Ring1][N][C][Branch2][Ring1][#Branch1][C][Branch1][P][N][C][=N][C][=N][C][Branch1][C][N][=C][Ring1][#Branch1][N][=C][Ring1][#Branch2][O][Ring1][#C][O][O][C][C][C][C][=Branch1][C][=O][O][C][C][Branch1][#C][N][C][=N][C][=C][Ring1][Branch1][N][=C][N][=C][Ring1][=Branch1][N][O][Ring2][Ring2][N][O]',\n  '[C][N][Branch2][Branch1][P][C][C][Branch2][Branch1][O][C][Branch2][Branch1][=Branch1][C][Branch1][Ring2][O][Ring1][Branch1][C][N][Branch2][Ring2][C][C][C][O][C][C][Branch1][C][O][C][Branch1][Ring1][C][O][O][C][Ring1][Branch2][N][C][=N][C][=N][C][=Branch1][Branch2][=C][Ring1][=Branch1][N][=C][Ring1][=Branch2][N][C][C][C][C][=Branch1][C][=O][O][C][O][O][C][=N][C][=N][C][=Branch1][Branch2][=C][Ring1][=Branch1][N][=Ring2][Ring2][=C][N]',\n  '[C][=N][C][=N][C][Branch1][C][N][=C][Ring1][#Branch1][N][=C][N][Ring1][#Branch2][C][C][Branch1][=N][C][Branch1][C][O][C][Branch1][Ring2][O][Ring1][=Branch1][C][O][O][C][C][N][Branch2][Ring2][=Branch1][C][C][C][Branch2][Ring1][#C][C][Branch2][Ring1][#Branch2][C][Branch2][Ring1][Ring1][N][C][=C][Branch1][#Branch2][C][Branch1][C][N][=N][C][=N][Ring1][#Branch1][N][=C][Ring1][#Branch2][O][Ring1][#C][O][O][C][C][C][C][Branch1][Ring1][O][C][=O]'],\n ['[C][Branch1][Ring2][O][C][C][=Branch1][C][=O][C][C]',\n  '[C][C][O][C][Branch1][Ring1][C][C][=O]',\n  '[O][=C][Branch1][Ring2][O][C][C][C][C]',\n  '[C][C][O][C][=Branch1][C][=O][C][C]',\n  '[C][Branch1][Branch2][O][C][=Branch1][C][=O][C][C][C]',\n  '[C][Branch1][C][C][O][C][Branch1][Ring1][C][C][=O]',\n  '[O][=C][Branch1][Ring1][C][C][O][C][C]',\n  '[C][Branch1][C][C][C][=Branch1][C][=O][O][C][C]'],\n ['[C][=Branch1][Branch2][=C][C][=C][C][=C][Ring1][=Branch1][C][N][C][Branch1][#C][S][C][C][Branch1][=Branch2][N][C][C][C][C][C][Ring1][Branch1][=O][=N][C][=C][Ring1][#C]',\n  '[C][=C][Branch1][#Branch1][C][=C][C][=C][Ring1][=Branch1][C][N][C][=C][N][=C][Ring1][Branch1][S][C][C][Branch1][=Branch2][N][C][C][C][C][C][Ring1][Branch1][=O]',\n  '[C][=C][C][Branch2][Ring1][#Branch1][C][N][C][=C][N][=C][Ring1][Branch1][S][C][C][=Branch1][C][=O][N][C][C][C][C][C][Ring1][Branch1][=C][C][=C][Ring2][Ring1][=Branch1]',\n  '[C][=C][C][=Branch1][=Branch1][=C][C][=C][Ring1][=Branch1][C][N][C][Branch1][#C][S][C][C][=Branch1][C][=O][N][C][C][C][C][C][Ring1][Branch1][=N][C][=C][Ring1][#C]',\n  '[C][N][Branch2][Ring1][=Branch1][C][Branch1][#C][S][C][C][Branch1][=Branch2][N][C][C][C][C][C][Ring1][Branch1][=O][=N][C][=Ring1][#C][C][C][=C][C][=C][C][=C][Ring1][=Branch1]',\n  '[C][Branch1][=Branch2][C][=C][C][=C][C][=C][Ring1][=Branch1][N][C][=Branch1][=Branch1][=N][C][=C][Ring1][Branch1][S][C][C][=Branch1][C][=O][N][C][C][C][C][C][Ring1][Branch1]',\n  '[N][Branch2][Ring1][#Branch2][C][Branch2][Ring1][Branch1][C][S][C][N][Branch1][#Branch2][C][C][=C][C][=C][C][=C][Ring1][=Branch1][C][=C][N][=Ring1][N][=O][C][C][C][C][C][Ring1][Branch1]',\n  '[N][Branch2][Ring1][=Branch2][C][=Branch1][C][=O][C][S][C][N][Branch1][=Branch1][C][=C][N][=Ring1][Branch1][C][C][=C][C][=C][C][=C][Ring1][=Branch1][C][C][C][C][C][Ring1][Branch1]',\n  '[C][C][C][Branch2][Ring1][=Branch2][N][C][Branch2][Ring1][Ring1][C][S][C][=N][C][=C][N][Ring1][Branch1][C][C][=C][C][=C][C][=C][Ring1][=Branch1][=O][C][C][Ring2][Ring1][=Branch1]',\n  '[C][=C][C][=C][C][Branch2][Ring1][=Branch2][C][N][C][Branch1][#C][S][C][C][Branch1][=Branch2][N][C][C][C][C][C][Ring1][Branch1][=O][=N][C][=C][Ring1][#C][=C][Ring2][Ring1][=Branch1]'],\n ['[N][Branch2][Ring1][C][C][Branch1][=C][N][C][=C][C][=C][Branch1][Ring1][O][C][C][=C][Ring1][Branch2][=S][N][C][Branch1][Branch2][C][C][C][C][Ring1][=Branch1][C][C]',\n  '[N][Branch1][=N][C][=C][C][=C][Branch1][Branch1][C][=C][Ring1][=Branch1][O][C][C][Branch1][=C][N][N][C][Branch1][Branch2][C][C][C][C][Ring1][=Branch1][C][C][=S]',\n  '[C][=C][C][Branch2][Ring1][Ring1][N][C][=Branch1][C][=S][N][N][C][Branch1][Branch2][C][C][C][C][Ring1][=Branch1][C][C][=C][C][=C][Ring2][Ring1][C][O][C]',\n  '[C][Branch1][Ring1][O][C][=C][C][=C][Branch2][Ring1][Ring1][N][C][Branch1][=C][N][N][C][Branch1][Branch2][C][C][C][C][Ring1][=Branch1][C][C][=S][C][=C][Ring2][Ring1][Ring2]',\n  '[C][Branch1][Ring1][O][C][=C][C][=C][Branch2][Ring1][Ring1][N][C][Branch1][=C][N][N][C][Branch1][C][C][C][C][C][C][Ring1][#Branch1][C][=S][C][=C][Ring2][Ring1][Ring2]',\n  '[C][=Branch1][N][=C][C][=C][Branch1][Branch1][C][=C][Ring1][=Branch1][O][C][N][C][=Branch1][C][=S][N][N][C][Branch1][Branch2][C][C][C][C][Ring1][=Branch1][C][C]',\n  '[C][C][Branch2][Ring1][S][N][Branch2][Ring1][Ring1][N][C][=Branch1][C][=S][N][C][=C][C][=C][Branch1][Ring1][O][C][C][=C][Ring1][Branch2][C][Branch1][C][C][C][C][Ring2][Ring1][Ring1][C]',\n  '[C][=Branch2][Ring1][=C][=C][C][=C][Branch2][Ring1][Ring1][N][C][Branch1][=C][N][N][C][Branch1][Branch2][C][C][C][C][Ring1][=Branch1][C][C][=S][C][=C][Ring2][Ring1][C][O][C]',\n  '[C][=C][C][Branch2][Ring1][Ring1][N][C][Branch1][=C][N][N][C][Branch1][C][C][C][C][C][C][Ring1][#Branch1][C][=S][=C][C][=C][Ring2][Ring1][C][O][C]',\n  '[C][Branch2][Ring1][Ring1][N][C][=Branch1][C][=S][N][N][C][Branch1][C][C][C][C][C][C][Ring1][#Branch1][C][=C][C][=C][Branch1][Ring1][O][C][C][=C][Ring2][Ring1][Ring2]'],\n ['[O][=C][Branch1][C][C][O]',\n  '[O][C][Branch1][C][C][=O]',\n  '[C][=Branch1][C][=O][Branch1][C][O][C]',\n  '[O][=C][Branch1][C][O][C]',\n  '[C][C][=Branch1][C][=O][O]',\n  '[C][Branch1][C][C][=Branch1][C][=O][O]',\n  '[O][C][=Branch1][C][=O][C]'],\n ['[C][=C][C][=C][C][=C][Ring1][=Branch1]']]"
     },
     "execution_count": 45,
     "metadata": {},
     "output_type": "execute_result"
    }
   ],
   "source": [
    "enumerator = SelfiesRandomizer(selfies=selfies, remove_duplicates=True, seed=123, n_jobs=1, verbose=0)\n",
    "enumerated_selfies = enumerator.enumerate(n_max=10)\n",
    "enumerated_selfies"
   ],
   "metadata": {
    "collapsed": false,
    "pycharm": {
     "name": "#%%\n"
    }
   }
  },
  {
   "cell_type": "markdown",
   "source": [
    "**Let’s see the enumerated SMILES for the first compound:**"
   ],
   "metadata": {
    "collapsed": false,
    "pycharm": {
     "name": "#%% md\n"
    }
   }
  },
  {
   "cell_type": "code",
   "execution_count": 46,
   "outputs": [
    {
     "name": "stdout",
     "output_type": "stream",
     "text": [
      "Original SELFIES: [C][=C][C][=C][Branch1][Branch1][C][=C][Ring1][=Branch1][C][=C][C][=C][C][=C][Ring1][=Branch1][C][=Branch1][C][=O][N][C][=C][C][=Branch1][=Branch2][=C][Branch1][Branch1][C][=C][Ring1][=Branch1][F][F]\n",
      "New enumerated SELFIES: ['[C][=C][Branch2][Ring1][#C][C][Branch1][C][F][=C][C][=C][Ring1][#Branch1][N][C][=Branch1][C][=O][C][=C][C][=C][C][=C][Ring1][=Branch1][C][=C][C][=C][C][=C][Ring1][=Branch1][F]', '[N][Branch2][Ring1][Branch1][C][=Branch1][C][=O][C][=C][C][=C][C][=C][Ring1][=Branch1][C][=C][C][=C][C][=C][Ring1][=Branch1][C][=C][C][Branch1][C][F][=C][Branch1][C][F][C][=C][Ring1][Branch2]', '[C][Branch2][Ring1][=C][C][=C][Branch1][#Branch1][C][=C][C][=C][Ring1][=Branch1][C][Branch1][S][N][C][=C][C][Branch1][C][F][=C][Branch1][Branch1][C][=C][Ring1][#Branch1][F][=O][=C][C][=C][C][=C][Ring2][Ring1][#Branch1]', '[C][=C][C][=C][C][=C][Ring1][=Branch1][C][=C][C][=C][C][=C][Ring1][=Branch1][C][=Branch1][C][=O][N][C][=C][C][=C][Branch1][Branch2][C][=Branch1][Ring2][=C][Ring1][=Branch1][F][F]', '[C][=Branch2][Ring2][C][=C][C][=Branch1][#Branch1][=C][C][=C][Ring1][=Branch1][F][N][C][=Branch1][C][=O][C][=C][Branch1][#Branch1][C][=C][C][=C][Ring1][=Branch1][C][=C][C][=C][C][=C][Ring1][=Branch1][F]', '[O][=C][Branch1][P][C][=C][C][=C][C][=C][Ring1][=Branch1][C][=C][C][=C][C][=C][Ring1][=Branch1][N][C][=C][C][=C][Branch1][Branch2][C][=Branch1][Ring2][=C][Ring1][=Branch1][F][F]', '[C][=Branch2][Ring2][Branch1][=C][Branch1][C][F][C][=C][Branch1][Branch1][C][=C][Ring1][#Branch1][N][C][Branch2][Ring1][Ring1][C][=C][Branch1][=Branch2][C][=C][C][=C][C][=C][Ring1][=Branch1][C][=C][C][=C][Ring1][N][=O][F]', '[C][Branch1][S][N][C][=C][C][=Branch1][=Branch2][=C][Branch1][C][F][C][=C][Ring1][#Branch1][F][Branch2][Ring1][Ring1][C][=C][Branch1][#Branch1][C][=C][C][=C][Ring1][=Branch1][C][=C][C][=C][C][=C][Ring1][=Branch1][=O]', '[F][C][=C][C][=C][Branch2][Ring1][=Branch2][N][C][Branch2][Ring1][Ring1][C][=C][Branch1][=Branch2][C][=C][C][=C][C][=C][Ring1][=Branch1][C][=C][C][=C][Ring1][N][=O][C][=C][Ring2][Ring1][Branch1][F]', '[C][=C][C][Branch2][Ring1][=Branch2][N][C][Branch2][Ring1][Ring1][C][=C][Branch1][=Branch2][C][=C][C][=C][C][=C][Ring1][=Branch1][C][=C][C][=C][Ring1][N][=O][=C][C][=Branch1][=Branch1][=C][Ring2][Ring1][Branch1][F][F]']\n"
     ]
    }
   ],
   "source": [
    "original_selfies = selfies[0]\n",
    "print(f\"Original SELFIES: {original_selfies}\")\n",
    "\n",
    "new_enumerated_selfies = enumerated_selfies[0]\n",
    "print(f\"New enumerated SELFIES: {new_enumerated_selfies}\")"
   ],
   "metadata": {
    "collapsed": false,
    "pycharm": {
     "name": "#%%\n"
    }
   }
  }
 ],
 "metadata": {
  "kernelspec": {
   "display_name": "Python 3",
   "language": "python",
   "name": "python3"
  },
  "language_info": {
   "codemirror_mode": {
    "name": "ipython",
    "version": 2
   },
   "file_extension": ".py",
   "mimetype": "text/x-python",
   "name": "python",
   "nbconvert_exporter": "python",
   "pygments_lexer": "ipython2",
   "version": "2.7.6"
  }
 },
 "nbformat": 4,
 "nbformat_minor": 0
}