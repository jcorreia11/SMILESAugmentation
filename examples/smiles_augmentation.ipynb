{
 "cells": [
  {
   "cell_type": "markdown",
   "source": [
    "# SMILES Augmentation Example"
   ],
   "metadata": {
    "collapsed": false,
    "pycharm": {
     "name": "#%% md\n"
    }
   }
  },
  {
   "cell_type": "markdown",
   "source": [
    "#### This example shows how to augment a SMILES dataset using SMILESAugmentation."
   ],
   "metadata": {
    "collapsed": false,
    "pycharm": {
     "name": "#%% md\n"
    }
   }
  },
  {
   "cell_type": "code",
   "execution_count": 9,
   "outputs": [],
   "source": [
    "import pandas as pd\n",
    "\n",
    "from smiles_augmentation.smiles_enumerator import SmilesEnumerator"
   ],
   "metadata": {
    "collapsed": false,
    "pycharm": {
     "name": "#%%\n"
    }
   }
  },
  {
   "cell_type": "markdown",
   "source": [
    "*Load the SMILES data:*"
   ],
   "metadata": {
    "collapsed": false,
    "pycharm": {
     "name": "#%% md\n"
    }
   }
  },
  {
   "cell_type": "code",
   "execution_count": 6,
   "outputs": [
    {
     "data": {
      "text/plain": "array(['C1=CC=C(C=C1)C2=CC=CC=C2C(=O)NC3=CC(=C(C=C3)F)F',\n       'CC(=C1C2CCC1C3C2C(=O)N(C3=O)NC(=O)C4=CC=CO4)C',\n       'CC1CCCC(N1NC(=S)NC2=CC=C(C=C2)OC)C',\n       'C1CCC(C1)NC(=O)CSC2=NC=CN2CC3=CC=CC=C3',\n       'COC1=CC=CC(=C1O)C=NNC(=O)C2=C3CCC4=CC=CC=C4C3=NN2',\n       'C1=CC=C(C=C1)CCCN(CCOC2C(C(OC2N3C=NC4=C(N=CN=C43)N)CO)O)CC5C(C(C(O5)N6C=NC7=C(N=CN=C76)N)O)O',\n       'CC(=O)O', 'CCC(=O)OCC',\n       'COC(=O)CCCN(CCOC1C(C(OC1N2C=NC3=C(N=CN=C32)N)CO)O)CC4C(C(C(O4)N5C=NC6=C(N=CN=C65)N)O)O',\n       'C1=CC(=CC=C1S(=O)(=O)N(CCOC2C(C(OC2N3C=NC4=C(N=CN=C43)N)CO)O)CC5C(C(C(O5)N6C=NC7=C(N=CN=C76)N)O)O)Cl'],\n      dtype=object)"
     },
     "execution_count": 6,
     "metadata": {},
     "output_type": "execute_result"
    }
   ],
   "source": [
    "smiles = pd.read_csv('data/compounds.csv').SMILES.values\n",
    "smiles"
   ],
   "metadata": {
    "collapsed": false,
    "pycharm": {
     "name": "#%%\n"
    }
   }
  },
  {
   "cell_type": "markdown",
   "source": [
    "*Create an SmilesEnumerator object and enumerate the SMILES by calling the enumerate method:*\n",
    "\n",
    "You can define if you want to keep or remove duplicates, define a seed for reproducibility, the number of jobs to run in parallel, the level of verbosity and the maximum number of SMILES to enumerate."
   ],
   "metadata": {
    "collapsed": false,
    "pycharm": {
     "name": "#%% md\n"
    }
   }
  },
  {
   "cell_type": "code",
   "execution_count": 11,
   "outputs": [
    {
     "data": {
      "text/plain": "[['c1(c(F)cc(cc1)NC(c1c(-c2ccccc2)cccc1)=O)F',\n  'c1ccccc1-c1ccccc1C(=O)Nc1ccc(c(c1)F)F',\n  'N(C(=O)c1ccccc1-c1ccccc1)c1cc(F)c(F)cc1',\n  'Fc1ccc(NC(c2c(-c3ccccc3)cccc2)=O)cc1F',\n  'c1c(c(F)ccc1NC(=O)c1ccccc1-c1ccccc1)F',\n  'c1(-c2c(cccc2)C(Nc2cc(F)c(cc2)F)=O)ccccc1',\n  'c1(cc(ccc1F)NC(=O)c1c(cccc1)-c1ccccc1)F',\n  'C(Nc1cc(c(F)cc1)F)(c1c(cccc1)-c1ccccc1)=O',\n  'O=C(c1ccccc1-c1ccccc1)Nc1ccc(c(c1)F)F',\n  'c1cc(NC(c2c(-c3ccccc3)cccc2)=O)cc(c1F)F'],\n ['C1(=C(C)C)C2C3C(=O)N(C(=O)C3C1CC2)NC(=O)c1ccco1',\n  'O=C1C2C3CCC(C3=C(C)C)C2C(=O)N1NC(c1ccco1)=O',\n  'C1C2C3C(N(C(=O)C3C(C1)C2=C(C)C)NC(=O)c1ccco1)=O',\n  'N1(C(=O)C2C3CCC(C3=C(C)C)C2C1=O)NC(c1ccco1)=O',\n  'o1cccc1C(NN1C(C2C(C3CCC2C3=C(C)C)C1=O)=O)=O',\n  'C12C(C3CCC2C3=C(C)C)C(N(C1=O)NC(=O)c1ccco1)=O',\n  'o1c(ccc1)C(NN1C(=O)C2C3CCC(C2C1=O)C3=C(C)C)=O',\n  'o1cccc1C(=O)NN1C(C2C3C(=C(C)C)C(C2C1=O)CC3)=O',\n  'c1cc(oc1)C(=O)NN1C(=O)C2C3C(=C(C)C)C(CC3)C2C1=O',\n  'C12C3C(=C(C)C)C(C1C(=O)N(C2=O)NC(=O)c1occc1)CC3'],\n ['N(c1ccc(cc1)OC)C(NN1C(CCCC1C)C)=S',\n  'c1(OC)ccc(NC(NN2C(C)CCCC2C)=S)cc1',\n  'c1cc(NC(NN2C(C)CCCC2C)=S)ccc1OC',\n  'N(C(Nc1ccc(OC)cc1)=S)N1C(CCCC1C)C',\n  'C1C(N(NC(=S)Nc2ccc(OC)cc2)C(C)CC1)C',\n  'c1(NC(=S)NN2C(C)CCCC2C)ccc(OC)cc1',\n  'c1(ccc(NC(NN2C(CCCC2C)C)=S)cc1)OC',\n  'c1cc(NC(=S)NN2C(CCCC2C)C)ccc1OC',\n  'c1(OC)ccc(NC(NN2C(CCCC2C)C)=S)cc1',\n  'c1(ccc(cc1)OC)NC(=S)NN1C(CCCC1C)C'],\n ['C(c1ccccc1)n1c(ncc1)SCC(=O)NC1CCCC1',\n  'N(C(CSc1n(Cc2ccccc2)ccn1)=O)C1CCCC1',\n  'c1(ccccc1)Cn1c(SCC(NC2CCCC2)=O)ncc1',\n  'c1c(cccc1)Cn1ccnc1SCC(NC1CCCC1)=O',\n  'N(C(=O)CSc1n(ccn1)Cc1ccccc1)C1CCCC1',\n  'c1cc(ccc1)Cn1c(SCC(=O)NC2CCCC2)ncc1',\n  'c1n(c(SCC(NC2CCCC2)=O)nc1)Cc1ccccc1',\n  'c1cccc(Cn2c(SCC(NC3CCCC3)=O)ncc2)c1',\n  'c1cc(Cn2ccnc2SCC(=O)NC2CCCC2)ccc1',\n  'C1CC(NC(CSc2nccn2Cc2ccccc2)=O)CC1'],\n ['c1(cccc(c1O)OC)C=NNC(c1[nH]nc2-c3ccccc3CCc12)=O',\n  'c1(C=NNC(=O)c2c3c(n[nH]2)-c2c(CC3)cccc2)cccc(OC)c1O',\n  'n1[nH]c(c2CCc3ccccc3-c12)C(=O)NN=Cc1c(c(ccc1)OC)O',\n  'C1c2c(cccc2)-c2n[nH]c(C(NN=Cc3cccc(c3O)OC)=O)c2C1',\n  'c1cccc2-c3c(c(C(NN=Cc4cccc(c4O)OC)=O)[nH]n3)CCc12',\n  'COc1c(c(C=NNC(c2[nH]nc3-c4c(cccc4)CCc23)=O)ccc1)O',\n  'c1cc2c(cc1)CCc1c(C(=O)NN=Cc3c(O)c(ccc3)OC)[nH]nc-21',\n  'O(C)c1cccc(C=NNC(=O)c2c3c(n[nH]2)-c2ccccc2CC3)c1O',\n  'c1c(c(O)c(cc1)OC)C=NNC(c1[nH]nc2c1CCc1ccccc1-2)=O',\n  'c12-c3n[nH]c(C(=O)NN=Cc4c(c(OC)ccc4)O)c3CCc1cccc2'],\n ['c1(CCCN(CCOC2C(n3c4c(c(N)ncn4)nc3)OC(CO)C2O)CC2OC(n3c4ncnc(c4nc3)N)C(O)C2O)ccccc1',\n  'c1cc(ccc1)CCCN(CCOC1C(OC(C1O)CO)n1cnc2c1ncnc2N)CC1OC(n2c3ncnc(c3nc2)N)C(C1O)O',\n  'c1n(C2OC(CO)C(C2OCCN(CC2OC(C(C2O)O)n2c3ncnc(c3nc2)N)CCCc2ccccc2)O)c2c(c(N)ncn2)n1',\n  'c1nc2c(N)ncnc2n1C1OC(CO)C(O)C1OCCN(CCCc1ccccc1)CC1C(O)C(C(O1)n1cnc2c(ncnc21)N)O',\n  'c12n(C3C(OCCN(CC4OC(n5cnc6c5ncnc6N)C(C4O)O)CCCc4ccccc4)C(C(O3)CO)O)cnc2c(N)ncn1',\n  'C1(OC(CN(CCOC2C(n3c4ncnc(N)c4nc3)OC(CO)C2O)CCCc2ccccc2)C(C1O)O)n1cnc2c1ncnc2N',\n  'c1nc2c(ncnc2N)n1C1OC(CO)C(C1OCCN(CC1OC(C(O)C1O)n1c2c(c(N)ncn2)nc1)CCCc1ccccc1)O',\n  'C1(O)C(O)C(n2c3ncnc(N)c3nc2)OC1CN(CCCc1ccccc1)CCOC1C(O)C(CO)OC1n1c2ncnc(N)c2nc1',\n  'N(CC1C(O)C(O)C(O1)n1cnc2c(ncnc21)N)(CCCc1ccccc1)CCOC1C(OC(CO)C1O)n1cnc2c1ncnc2N',\n  'n1cnc(c2c1n(C1OC(C(O)C1OCCN(CCCc1ccccc1)CC1C(O)C(O)C(O1)n1c3ncnc(N)c3nc1)CO)cn2)N'],\n ['OC(C)=O',\n  'OC(=O)C',\n  'O=C(C)O',\n  'CC(=O)O',\n  'C(=O)(O)C',\n  'O=C(O)C',\n  'C(C)(=O)O'],\n ['C(C)OC(CC)=O',\n  'O=C(OCC)CC',\n  'C(OC(=O)CC)C',\n  'O=C(CC)OCC',\n  'C(C)C(=O)OCC',\n  'C(OCC)(=O)CC',\n  'CCOC(CC)=O',\n  'CCOC(=O)CC'],\n ['C1(n2cnc3c(ncnc23)N)C(O)C(C(CN(CCOC2C(OC(CO)C2O)n2c3ncnc(N)c3nc2)CCCC(OC)=O)O1)O',\n  'n1c2c(c(N)nc1)ncn2C1OC(CO)C(C1OCCN(CC1OC(n2cnc3c2ncnc3N)C(C1O)O)CCCC(OC)=O)O',\n  'C(N(CCCC(=O)OC)CCOC1C(OC(CO)C1O)n1c2ncnc(N)c2nc1)C1OC(n2cnc3c2ncnc3N)C(O)C1O',\n  'C1(OCCN(CCCC(=O)OC)CC2C(O)C(C(n3cnc4c3ncnc4N)O2)O)C(n2c3ncnc(c3nc2)N)OC(C1O)CO',\n  'OCC1C(C(OCCN(CC2C(C(C(n3c4ncnc(N)c4nc3)O2)O)O)CCCC(=O)OC)C(n2cnc3c2ncnc3N)O1)O',\n  'c1n(C2C(C(C(O2)CN(CCOC2C(O)C(CO)OC2n2c3ncnc(c3nc2)N)CCCC(=O)OC)O)O)c2ncnc(c2n1)N',\n  'c12ncnc(N)c2ncn1C1C(C(O)C(O1)CO)OCCN(CC1C(C(C(n2c3c(c(N)ncn3)nc2)O1)O)O)CCCC(OC)=O',\n  'c12ncnc(c1ncn2C1OC(C(C1O)O)CN(CCCC(=O)OC)CCOC1C(n2cnc3c2ncnc3N)OC(CO)C1O)N',\n  'OC1C(OC(C1OCCN(CC1C(C(C(O1)n1c2ncnc(c2nc1)N)O)O)CCCC(OC)=O)n1cnc2c(ncnc12)N)CO',\n  'OCC1C(O)C(C(O1)n1c2ncnc(N)c2nc1)OCCN(CCCC(OC)=O)CC1OC(C(O)C1O)n1cnc2c1ncnc2N'],\n ['C1(C(OC(n2c3ncnc(c3nc2)N)C1O)CN(CCOC1C(n2c3c(nc2)c(ncn3)N)OC(C1O)CO)S(=O)(c1ccc(Cl)cc1)=O)O',\n  'C1(O)C(OC(n2cnc3c(ncnc32)N)C1O)CN(CCOC1C(OC(CO)C1O)n1cnc2c(N)ncnc12)S(=O)(c1ccc(Cl)cc1)=O',\n  'c12ncn(C3C(O)C(C(O3)CN(CCOC3C(C(CO)OC3n3cnc4c3ncnc4N)O)S(=O)(=O)c3ccc(cc3)Cl)O)c1ncnc2N',\n  'c1(ccc(S(=O)(=O)N(CC2OC(n3c4ncnc(N)c4nc3)C(O)C2O)CCOC2C(OC(C2O)CO)n2cnc3c2ncnc3N)cc1)Cl',\n  'c1nc2c(N)ncnc2n1C1C(OCCN(CC2C(C(O)C(n3c4c(c(N)ncn4)nc3)O2)O)S(=O)(=O)c2ccc(Cl)cc2)C(O)C(O1)CO',\n  'n1c(c2ncn(C3C(O)C(C(O3)CN(S(=O)(=O)c3ccc(cc3)Cl)CCOC3C(OC(CO)C3O)n3cnc4c(N)ncnc34)O)c2nc1)N',\n  'C1(C(OCCN(CC2C(O)C(O)C(O2)n2cnc3c2ncnc3N)S(c2ccc(cc2)Cl)(=O)=O)C(OC1CO)n1cnc2c1ncnc2N)O',\n  'c12ncn(c2ncnc1N)C1OC(C(O)C1OCCN(S(=O)(=O)c1ccc(cc1)Cl)CC1OC(n2cnc3c(ncnc23)N)C(O)C1O)CO',\n  'c12n(cnc2c(N)ncn1)C1OC(C(O)C1OCCN(S(=O)(=O)c1ccc(Cl)cc1)CC1C(C(C(O1)n1c2c(c(ncn2)N)nc1)O)O)CO',\n  'C(C1OC(C(C1O)O)n1cnc2c1ncnc2N)N(S(=O)(c1ccc(Cl)cc1)=O)CCOC1C(O)C(OC1n1cnc2c1ncnc2N)CO']]"
     },
     "execution_count": 11,
     "metadata": {},
     "output_type": "execute_result"
    }
   ],
   "source": [
    "enumerator = SmilesEnumerator(smiles=smiles, remove_duplicates=True, seed=123, n_jobs=1, verbose=0)\n",
    "enumerated_smiles = enumerator.enumerate(n_max=10)\n",
    "enumerated_smiles"
   ],
   "metadata": {
    "collapsed": false,
    "pycharm": {
     "name": "#%%\n"
    }
   }
  },
  {
   "cell_type": "markdown",
   "source": [
    "*Let's see the enumerated SMILES for the first compound:*"
   ],
   "metadata": {
    "collapsed": false,
    "pycharm": {
     "name": "#%% md\n"
    }
   }
  },
  {
   "cell_type": "code",
   "execution_count": 13,
   "outputs": [
    {
     "name": "stdout",
     "output_type": "stream",
     "text": [
      "Original SMILES: C1=CC=C(C=C1)C2=CC=CC=C2C(=O)NC3=CC(=C(C=C3)F)F\n",
      "New enumerated SMILES: ['c1(c(F)cc(cc1)NC(c1c(-c2ccccc2)cccc1)=O)F', 'c1ccccc1-c1ccccc1C(=O)Nc1ccc(c(c1)F)F', 'N(C(=O)c1ccccc1-c1ccccc1)c1cc(F)c(F)cc1', 'Fc1ccc(NC(c2c(-c3ccccc3)cccc2)=O)cc1F', 'c1c(c(F)ccc1NC(=O)c1ccccc1-c1ccccc1)F', 'c1(-c2c(cccc2)C(Nc2cc(F)c(cc2)F)=O)ccccc1', 'c1(cc(ccc1F)NC(=O)c1c(cccc1)-c1ccccc1)F', 'C(Nc1cc(c(F)cc1)F)(c1c(cccc1)-c1ccccc1)=O', 'O=C(c1ccccc1-c1ccccc1)Nc1ccc(c(c1)F)F', 'c1cc(NC(c2c(-c3ccccc3)cccc2)=O)cc(c1F)F']\n"
     ]
    }
   ],
   "source": [
    "original_smiles = smiles[0]\n",
    "print(f\"Original SMILES: {original_smiles}\")\n",
    "\n",
    "new_enumerated_smiles = enumerated_smiles[0]\n",
    "print(f\"New enumerated SMILES: {new_enumerated_smiles}\")"
   ],
   "metadata": {
    "collapsed": false,
    "pycharm": {
     "name": "#%%\n"
    }
   }
  }
 ],
 "metadata": {
  "kernelspec": {
   "display_name": "Python 3",
   "language": "python",
   "name": "python3"
  },
  "language_info": {
   "codemirror_mode": {
    "name": "ipython",
    "version": 2
   },
   "file_extension": ".py",
   "mimetype": "text/x-python",
   "name": "python",
   "nbconvert_exporter": "python",
   "pygments_lexer": "ipython2",
   "version": "2.7.6"
  }
 },
 "nbformat": 4,
 "nbformat_minor": 0
}