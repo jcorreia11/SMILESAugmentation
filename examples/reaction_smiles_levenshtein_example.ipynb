{
 "cells": [
  {
   "cell_type": "markdown",
   "source": [
    "# Reaction SMILES Augmentation Using the Levenshtein Distance Example"
   ],
   "metadata": {
    "collapsed": false,
    "pycharm": {
     "name": "#%% md\n"
    }
   }
  },
  {
   "cell_type": "markdown",
   "source": [
    "#### This example shows how to augment a Reaction SMILES dataset using SMILESAugmentation (Levenshtein Distance)."
   ],
   "metadata": {
    "collapsed": false,
    "pycharm": {
     "name": "#%% md\n"
    }
   }
  },
  {
   "cell_type": "code",
   "execution_count": 5,
   "outputs": [],
   "source": [
    "import pandas as pd\n",
    "\n",
    "from smiles_augmentation.reaction_smiles_enumerators import ReactionSmilesLevenshtein"
   ],
   "metadata": {
    "collapsed": false,
    "pycharm": {
     "name": "#%%\n"
    }
   }
  },
  {
   "cell_type": "markdown",
   "source": [
    "**Load the reaction SMILES data:**"
   ],
   "metadata": {
    "collapsed": false,
    "pycharm": {
     "name": "#%% md\n"
    }
   }
  },
  {
   "cell_type": "code",
   "execution_count": 3,
   "outputs": [
    {
     "data": {
      "text/plain": "array(['CC(C)C[Mg+].CON(C)C(=O)c1ccc(O)nc1>>CC(C)CC(=O)c1ccc(O)nc1',\n       'CN.O=C(O)c1ccc(Cl)c([N+](=O)[O-])c1>>CNc1ccc(C(=O)O)cc1[N+](=O)[O-]',\n       'CCn1cc(C(=O)O)c(=O)c2cc(F)c(-c3ccc(N)cc3)cc21.O=CO>>CCn1cc(C(=O)O)c(=O)c2cc(F)c(-c3ccc(NC=O)cc3)cc21',\n       'COCC(C)Oc1cc(Oc2cnc(C(=O)N3CCC3)cn2)cc(C(=O)O)c1.Cc1cnc(N)cn1>>COCC(C)Oc1cc(Oc2cnc(C(=O)N3CCC3)cn2)cc(C(=O)Nc2cnc(C)cn2)c1',\n       'Clc1cc2c(Cl)nc(-c3ccncc3)nc2s1.NCc1ccc(Cl)c(Cl)c1>>Clc1cc2c(NCc3ccc(Cl)c(Cl)c3)nc(-c3ccncc3)nc2s1',\n       'Cc1c(Cl)nnc(C(C#N)c2ccc(F)c(C#N)c2)c1C>>Cc1c(Cl)nnc(Cc2ccc(F)c(C#N)c2)c1C',\n       'CC(N)c1ccc(F)c(Cl)c1.O=C(N1CCc2ccc(Cl)c(OS(=O)(=O)C(F)(F)F)c2CC1)C(F)(F)F>>CC(Nc1c(Cl)ccc2c1CCN(C(=O)C(F)(F)F)CC2)c1ccc(F)c(Cl)c1',\n       'CC(C)N1CCN(C(=O)c2ccc3[nH]c(C(=O)N4CCN(S(C)(=O)=O)CC4)cc3c2)CC1.CCOC(=O)N1CCNCC1>>CCOC(=O)N1CCN(C(=O)c2cc3cc(C(=O)N4CCN(C(C)C)CC4)ccc3[nH]2)CC1',\n       'CC(C(=O)O)C(=O)NCc1ccc(F)cc1.CN1C(=O)C(N)c2ccccc2-c2ccccc21>>CC(C(=O)NCc1ccc(F)cc1)C(=O)NC1C(=O)N(C)c2ccccc2-c2ccccc21',\n       'CC(=O)N1CCN(c2ccc(N)nc2)CC1.O=C(O)Cc1ccc(Br)c(C(F)(F)F)c1>>CC(=O)N1CCN(c2ccc(NC(=O)Cc3ccc(Br)c(C(F)(F)F)c3)nc2)CC1'],\n      dtype=object)"
     },
     "execution_count": 3,
     "metadata": {},
     "output_type": "execute_result"
    }
   ],
   "source": [
    "reaction_smiles = pd.read_csv('data/reactions.csv').reaction_SMILES.values\n",
    "reaction_smiles"
   ],
   "metadata": {
    "collapsed": false,
    "pycharm": {
     "name": "#%%\n"
    }
   }
  },
  {
   "cell_type": "markdown",
   "source": [
    "**Create an ReactionSmilesLevenshtein object and enumerate the reaction SMILES by calling the enumerate method:**\n",
    "\n",
    "You can define if you want to keep or remove duplicates, define a seed for reproducibility, the number of jobs to run in parallel, the level of verbosity and the maximum number of SMILES to enumerate."
   ],
   "metadata": {
    "collapsed": false,
    "pycharm": {
     "name": "#%% md\n"
    }
   }
  },
  {
   "cell_type": "code",
   "execution_count": 6,
   "outputs": [
    {
     "data": {
      "text/plain": "[['C(C[Mg+])(C)C.CN(OC)C(=O)c1ccc(nc1)O>>C(CC(=O)c1cnc(cc1)O)(C)C',\n  'C(C)(C)C[Mg+].O=C(c1cnc(cc1)O)N(C)OC>>O=C(c1cnc(cc1)O)CC(C)C',\n  'C(C[Mg+])(C)C.O(C)N(C)C(=O)c1cnc(cc1)O>>C(CC(=O)c1cnc(cc1)O)(C)C',\n  'CC(C)C[Mg+].O(C)N(C)C(=O)c1cnc(cc1)O>>C(C(C)C)C(=O)c1cnc(O)cc1',\n  'CC(C)C[Mg+].c1c(ncc(c1)C(=O)N(OC)C)O>>c1c(ncc(c1)C(=O)CC(C)C)O',\n  'CC(C[Mg+])C.CN(OC)C(=O)c1ccc(nc1)O>>C(CC(=O)c1cnc(cc1)O)(C)C',\n  'CC(C[Mg+])C.c1cc(cnc1O)C(=O)N(C)OC>>c1cc(cnc1O)C(=O)CC(C)C',\n  '[Mg+]CC(C)C.CN(OC)C(=O)c1ccc(nc1)O>>C(CC(=O)c1cnc(cc1)O)(C)C',\n  'C(C(C)C)[Mg+].O=C(c1cnc(cc1)O)N(C)OC>>O=C(c1cnc(cc1)O)CC(C)C',\n  'C(C(C)C)[Mg+].O(C)N(C)C(=O)c1cnc(cc1)O>>C(C(C)C)C(=O)c1cnc(O)cc1'],\n ['CN.c1(C(O)=O)cc([N+]([O-])=O)c(Cl)cc1>>c1(c(cc(C(O)=O)cc1)[N+]([O-])=O)NC',\n  'NC.c1(Cl)ccc(cc1[N+]([O-])=O)C(=O)O>>c1(cc(c(NC)cc1)[N+](=O)[O-])C(O)=O',\n  'CN.c1cc(C(=O)O)cc([N+]([O-])=O)c1Cl>>c1(cc(C(=O)O)ccc1NC)[N+]([O-])=O',\n  'CN.c1([N+]([O-])=O)c(Cl)ccc(C(=O)O)c1>>c1c(c([N+](=O)[O-])cc(C(=O)O)c1)NC',\n  'NC.c1([N+]([O-])=O)c(Cl)ccc(C(=O)O)c1>>c1c(c([N+](=O)[O-])cc(C(=O)O)c1)NC',\n  'NC.c1cc(C(O)=O)cc(c1Cl)[N+](=O)[O-]>>c1(cc(C(=O)O)ccc1NC)[N+]([O-])=O',\n  'CN.O=C(O)c1cc([N+](=O)[O-])c(cc1)Cl>>c1c(c([N+](=O)[O-])cc(C(=O)O)c1)NC',\n  'NC.Clc1c(cc(C(=O)O)cc1)[N+](=O)[O-]>>c1(cc(C(=O)O)ccc1NC)[N+]([O-])=O',\n  'CN.c1(Cl)ccc(cc1[N+]([O-])=O)C(=O)O>>c1(cc(c(NC)cc1)[N+](=O)[O-])C(O)=O',\n  'CN.c1cc(C(O)=O)cc(c1Cl)[N+](=O)[O-]>>c1(cc(C(=O)O)ccc1NC)[N+]([O-])=O'],\n ['c12c(c(=O)c(cn2CC)C(O)=O)cc(F)c(-c2ccc(N)cc2)c1.O=CO>>c12cc(c(cc1c(c(C(O)=O)cn2CC)=O)F)-c1ccc(NC=O)cc1',\n  'n1(CC)c2cc(-c3ccc(N)cc3)c(F)cc2c(=O)c(C(O)=O)c1.C(O)=O>>c12cc(-c3ccc(cc3)NC=O)c(F)cc2c(c(C(O)=O)cn1CC)=O',\n  'OC(c1c(=O)c2cc(c(-c3ccc(cc3)N)cc2n(CC)c1)F)=O.C(=O)O>>c12cc(-c3ccc(cc3)NC=O)c(F)cc2c(c(C(O)=O)cn1CC)=O',\n  'CCn1cc(C(O)=O)c(c2c1cc(-c1ccc(N)cc1)c(F)c2)=O.O=CO>>n1(CC)cc(C(O)=O)c(c2c1cc(-c1ccc(NC=O)cc1)c(c2)F)=O',\n  'c12c(c(=O)c(cn2CC)C(O)=O)cc(F)c(-c2ccc(N)cc2)c1.OC=O>>c12cc(c(cc1c(c(C(O)=O)cn2CC)=O)F)-c1ccc(NC=O)cc1',\n  'n1(CC)c2cc(-c3ccc(N)cc3)c(F)cc2c(=O)c(C(O)=O)c1.O=CO>>c12cc(-c3ccc(cc3)NC=O)c(F)cc2c(c(C(O)=O)cn1CC)=O',\n  'c1(=O)c(C(=O)O)cn(CC)c2c1cc(F)c(-c1ccc(N)cc1)c2.C(=O)O>>n1(CC)cc(C(O)=O)c(c2c1cc(-c1ccc(NC=O)cc1)c(c2)F)=O',\n  'c1(=O)c(C(=O)O)cn(CC)c2c1cc(F)c(-c1ccc(N)cc1)c2.O=CO>>n1(CC)cc(C(O)=O)c(c2c1cc(-c1ccc(NC=O)cc1)c(c2)F)=O',\n  'c1c(N)ccc(-c2c(F)cc3c(n(CC)cc(c3=O)C(O)=O)c2)c1.OC=O>>c1c(NC=O)ccc(-c2cc3c(c(=O)c(cn3CC)C(O)=O)cc2F)c1',\n  'OC(c1c(=O)c2cc(c(-c3ccc(cc3)N)cc2n(CC)c1)F)=O.OC=O>>c12cc(-c3ccc(cc3)NC=O)c(F)cc2c(c(C(O)=O)cn1CC)=O'],\n ['C1N(CC1)C(c1ncc(Oc2cc(OC(C)COC)cc(C(O)=O)c2)nc1)=O.Cc1ncc(nc1)N>>C1N(CC1)C(c1ncc(Oc2cc(C(Nc3ncc(C)nc3)=O)cc(OC(COC)C)c2)nc1)=O',\n  'c1c(cc(C(O)=O)cc1OC(COC)C)Oc1cnc(cn1)C(=O)N1CCC1.Cc1ncc(nc1)N>>N(C(c1cc(cc(c1)OC(COC)C)Oc1cnc(cn1)C(=O)N1CCC1)=O)c1ncc(C)nc1',\n  'O=C(O)c1cc(cc(c1)Oc1cnc(C(N2CCC2)=O)cn1)OC(COC)C.c1(C)ncc(nc1)N>>C(Oc1cc(C(=O)Nc2cnc(C)cn2)cc(c1)Oc1ncc(C(N2CCC2)=O)nc1)(C)COC',\n  'C1N(C(=O)c2cnc(Oc3cc(cc(c3)OC(COC)C)C(=O)O)cn2)CC1.Cc1ncc(nc1)N>>C1N(C(=O)c2cnc(Oc3cc(C(Nc4cnc(C)cn4)=O)cc(OC(C)COC)c3)cn2)CC1',\n  'c1(Oc2ncc(nc2)C(=O)N2CCC2)cc(cc(C(O)=O)c1)OC(COC)C.n1c(cnc(c1)C)N>>c1c(cc(Oc2cnc(cn2)C(=O)N2CCC2)cc1C(Nc1cnc(C)cn1)=O)OC(C)COC',\n  'c1c(cc(C(O)=O)cc1OC(COC)C)Oc1cnc(cn1)C(=O)N1CCC1.n1c(cnc(c1)C)N>>c1c(cc(cc1OC(C)COC)Oc1cnc(cn1)C(=O)N1CCC1)C(=O)Nc1cnc(C)cn1',\n  'c1nc(cnc1Oc1cc(OC(C)COC)cc(C(=O)O)c1)C(N1CCC1)=O.c1(C)ncc(nc1)N>>c1(cnc(Oc2cc(cc(c2)OC(COC)C)C(=O)Nc2ncc(C)nc2)cn1)C(N1CCC1)=O',\n  'c1nc(cnc1Oc1cc(OC(C)COC)cc(C(=O)O)c1)C(N1CCC1)=O.c1c(ncc(N)n1)C>>c1(cnc(Oc2cc(cc(c2)OC(COC)C)C(=O)Nc2ncc(C)nc2)cn1)C(N1CCC1)=O',\n  'O=C(O)c1cc(cc(c1)Oc1cnc(C(N2CCC2)=O)cn1)OC(COC)C.c1nc(cnc1C)N>>C(Oc1cc(C(=O)Nc2cnc(C)cn2)cc(c1)Oc1ncc(C(N2CCC2)=O)nc1)(C)COC',\n  'C1N(CC1)C(c1ncc(Oc2cc(OC(C)COC)cc(C(O)=O)c2)nc1)=O.Cc1cnc(N)cn1>>C1N(CC1)C(c1ncc(Oc2cc(C(Nc3ncc(C)nc3)=O)cc(OC(COC)C)c2)nc1)=O'],\n ['c1cc(ccn1)-c1nc(Cl)c2cc(sc2n1)Cl.c1(c(cc(cc1)CN)Cl)Cl>>c1cc(c(cc1CNc1c2cc(Cl)sc2nc(-c2ccncc2)n1)Cl)Cl',\n  'c1cc(ccn1)-c1nc(Cl)c2cc(sc2n1)Cl.NCc1ccc(c(Cl)c1)Cl>>n1ccc(cc1)-c1nc(c2cc(sc2n1)Cl)NCc1cc(c(Cl)cc1)Cl',\n  'c1nccc(-c2nc3sc(Cl)cc3c(n2)Cl)c1.NCc1cc(c(cc1)Cl)Cl>>c1(-c2nc3sc(Cl)cc3c(NCc3cc(c(cc3)Cl)Cl)n2)ccncc1',\n  'c1(c2c(sc(Cl)c2)nc(-c2ccncc2)n1)Cl.c1(c(cc(cc1)CN)Cl)Cl>>c1cc(c(cc1CNc1c2cc(Cl)sc2nc(-c2ccncc2)n1)Cl)Cl',\n  'c1(c2c(sc(Cl)c2)nc(-c2ccncc2)n1)Cl.NCc1ccc(c(Cl)c1)Cl>>c1cc(c(cc1CNc1c2cc(Cl)sc2nc(-c2ccncc2)n1)Cl)Cl',\n  'c12c(nc(-c3ccncc3)nc1Cl)sc(c2)Cl.NCc1cc(c(cc1)Cl)Cl>>Clc1c(ccc(c1)CNc1c2c(nc(-c3ccncc3)n1)sc(c2)Cl)Cl',\n  'c12nc(-c3ccncc3)nc(c2cc(s1)Cl)Cl.c1(CN)cc(c(Cl)cc1)Cl>>c1cc(c(cc1CNc1c2cc(Cl)sc2nc(-c2ccncc2)n1)Cl)Cl',\n  'n1ccc(-c2nc3c(cc(Cl)s3)c(Cl)n2)cc1.c1(CN)ccc(c(c1)Cl)Cl>>c1(-c2nc3sc(Cl)cc3c(NCc3cc(c(cc3)Cl)Cl)n2)ccncc1',\n  'c1(c2c(sc(Cl)c2)nc(-c2ccncc2)n1)Cl.c1c(CN)cc(Cl)c(Cl)c1>>c1cc(c(cc1CNc1c2cc(Cl)sc2nc(-c2ccncc2)n1)Cl)Cl',\n  'c1cc(ccn1)-c1nc(Cl)c2cc(sc2n1)Cl.Clc1c(cc(cc1)CN)Cl>>c1cc(c(cc1CNc1c2cc(Cl)sc2nc(-c2ccncc2)n1)Cl)Cl'],\n ['C(c1cc(C#N)c(F)cc1)(c1c(C)c(C)c(Cl)nn1)C#N>>c1cc(c(C#N)cc1Cc1c(C)c(C)c(Cl)nn1)F',\n  'c1(C(C#N)c2nnc(Cl)c(c2C)C)ccc(c(c1)C#N)F>>c1(C)c(Cl)nnc(c1C)Cc1cc(C#N)c(cc1)F',\n  'n1nc(c(c(C)c1C(C#N)c1ccc(F)c(c1)C#N)C)Cl>>n1c(Cl)c(C)c(C)c(Cc2cc(c(F)cc2)C#N)n1',\n  'N#Cc1cc(ccc1F)C(c1nnc(Cl)c(c1C)C)C#N>>Fc1c(cc(cc1)Cc1c(c(C)c(nn1)Cl)C)C#N',\n  'Cc1c(C(c2cc(c(F)cc2)C#N)C#N)nnc(Cl)c1C>>Clc1nnc(Cc2ccc(c(c2)C#N)F)c(C)c1C',\n  'Clc1nnc(c(C)c1C)C(c1cc(C#N)c(cc1)F)C#N>>c1(C)c(Cl)nnc(c1C)Cc1cc(C#N)c(cc1)F',\n  'c1(C(c2nnc(Cl)c(C)c2C)C#N)cc(c(F)cc1)C#N>>n1c(Cl)c(C)c(C)c(Cc2cc(c(F)cc2)C#N)n1',\n  'c1(c(C)c(nnc1C(c1ccc(c(c1)C#N)F)C#N)Cl)C>>c1(c(C)c(Cl)nnc1Cc1cc(C#N)c(F)cc1)C',\n  'c1c(F)c(cc(C(c2c(c(c(nn2)Cl)C)C)C#N)c1)C#N>>Fc1c(cc(cc1)Cc1c(c(C)c(nn1)Cl)C)C#N',\n  'C(C(c1c(c(c(nn1)Cl)C)C)c1ccc(c(c1)C#N)F)#N>>C(c1c(F)ccc(c1)Cc1c(C)c(C)c(nn1)Cl)#N'],\n ['c1c(C(N)C)ccc(F)c1Cl.c1(c(OS(C(F)(F)F)(=O)=O)c2CCN(C(C(F)(F)F)=O)CCc2cc1)Cl>>c12c(c(Cl)ccc2CCN(C(C(F)(F)F)=O)CC1)NC(C)c1cc(c(cc1)F)Cl',\n  'C(C)(c1cc(c(F)cc1)Cl)N.FC(F)(C(N1CCc2c(CC1)ccc(Cl)c2OS(=O)(=O)C(F)(F)F)=O)F>>FC(C(N1CCc2c(CC1)c(NC(C)c1ccc(c(c1)Cl)F)c(cc2)Cl)=O)(F)F',\n  'Clc1cc(ccc1F)C(N)C.C1CN(CCc2c1c(OS(=O)(C(F)(F)F)=O)c(cc2)Cl)C(C(F)(F)F)=O>>c12CCN(CCc2ccc(Cl)c1NC(C)c1cc(c(cc1)F)Cl)C(C(F)(F)F)=O',\n  'c1c(C(N)C)ccc(F)c1Cl.Clc1c(OS(=O)(C(F)(F)F)=O)c2c(cc1)CCN(C(=O)C(F)(F)F)CC2>>C(C)(Nc1c2c(ccc1Cl)CCN(CC2)C(=O)C(F)(F)F)c1ccc(F)c(Cl)c1',\n  'c1c(C(N)C)ccc(F)c1Cl.C1CN(CCc2c1c(OS(=O)(C(F)(F)F)=O)c(cc2)Cl)C(C(F)(F)F)=O>>c12CCN(CCc2ccc(Cl)c1NC(C)c1cc(c(cc1)F)Cl)C(C(F)(F)F)=O',\n  'c1c(C(N)C)cc(Cl)c(F)c1.C1CN(C(C(F)(F)F)=O)CCc2ccc(Cl)c(OS(C(F)(F)F)(=O)=O)c12>>C1Cc2c(CCN1C(C(F)(F)F)=O)ccc(Cl)c2NC(c1ccc(c(c1)Cl)F)C',\n  'Clc1cc(ccc1F)C(C)N.Clc1c(OS(=O)(C(F)(F)F)=O)c2c(cc1)CCN(C(=O)C(F)(F)F)CC2>>c12CCN(CCc2c(c(cc1)Cl)NC(C)c1cc(c(cc1)F)Cl)C(=O)C(F)(F)F',\n  'Clc1cc(ccc1F)C(N)C.N1(CCc2c(CC1)ccc(c2OS(=O)(C(F)(F)F)=O)Cl)C(C(F)(F)F)=O>>c12CCN(CCc2ccc(Cl)c1NC(C)c1cc(c(cc1)F)Cl)C(C(F)(F)F)=O',\n  'C(C)(c1cc(c(F)cc1)Cl)N.Clc1c(OS(=O)(C(F)(F)F)=O)c2c(cc1)CCN(C(=O)C(F)(F)F)CC2>>C1CN(CCc2c1ccc(c2NC(c1cc(Cl)c(F)cc1)C)Cl)C(=O)C(F)(F)F',\n  'Clc1cc(ccc1F)C(N)C.FC(F)(C(N1CCc2c(CC1)ccc(Cl)c2OS(=O)(=O)C(F)(F)F)=O)F>>c12CCN(CCc2c(c(cc1)Cl)NC(C)c1cc(c(cc1)F)Cl)C(=O)C(F)(F)F'],\n ['O=C(N1CCN(S(=O)(C)=O)CC1)c1cc2c(ccc(C(=O)N3CCN(C(C)C)CC3)c2)[nH]1.C1CN(C(OCC)=O)CCN1>>O=C(N1CCN(CC1)C(OCC)=O)c1[nH]c2c(c1)cc(cc2)C(=O)N1CCN(C(C)C)CC1',\n  'C1CN(CCN1C(C)C)C(=O)c1ccc2[nH]c(C(N3CCN(CC3)S(=O)(=O)C)=O)cc2c1.C(C)OC(=O)N1CCNCC1>>c1c(C(N2CCN(CC2)C(C)C)=O)ccc2[nH]c(C(=O)N3CCN(C(=O)OCC)CC3)cc21',\n  'C1CN(CCN1C(C)C)C(=O)c1ccc2[nH]c(C(N3CCN(CC3)S(=O)(=O)C)=O)cc2c1.C1CN(C(OCC)=O)CCN1>>c1c(C(N2CCN(CC2)C(C)C)=O)ccc2[nH]c(C(=O)N3CCN(C(=O)OCC)CC3)cc21',\n  'C1N(CCN(C1)C(=O)c1cc2cc([nH]c2cc1)C(=O)N1CCN(S(=O)(C)=O)CC1)C(C)C.C1CN(C(OCC)=O)CCN1>>c1(C(=O)N2CCN(C(C)C)CC2)cc2cc([nH]c2cc1)C(=O)N1CCN(C(OCC)=O)CC1',\n  'C(C)(N1CCN(C(=O)c2cc3cc([nH]c3cc2)C(=O)N2CCN(CC2)S(=O)(=O)C)CC1)C.C(C)OC(=O)N1CCNCC1>>C(C)OC(=O)N1CCN(C(c2cc3cc(ccc3[nH]2)C(=O)N2CCN(C(C)C)CC2)=O)CC1',\n  'N1(C(=O)c2ccc3[nH]c(C(N4CCN(S(C)(=O)=O)CC4)=O)cc3c2)CCN(C(C)C)CC1.C1NCCN(C1)C(=O)OCC>>N1(CCN(C(c2cc3c([nH]c(C(N4CCN(C(=O)OCC)CC4)=O)c3)cc2)=O)CC1)C(C)C',\n  'C1N(CCN(C1)C(=O)c1cc2cc([nH]c2cc1)C(=O)N1CCN(S(=O)(C)=O)CC1)C(C)C.C1N(C(=O)OCC)CCNC1>>O=C(N1CCN(CC1)C(OCC)=O)c1[nH]c2c(c1)cc(cc2)C(=O)N1CCN(C(C)C)CC1',\n  'C1CN(CCN1C(=O)c1cc2c([nH]c(C(=O)N3CCN(CC3)S(C)(=O)=O)c2)cc1)C(C)C.O=C(OCC)N1CCNCC1>>C1N(CCN(C(=O)c2cc3c(cc2)[nH]c(C(N2CCN(CC2)C(OCC)=O)=O)c3)C1)C(C)C',\n  'C(C)(N1CCN(C(=O)c2cc3cc([nH]c3cc2)C(=O)N2CCN(CC2)S(=O)(=O)C)CC1)C.O=C(OCC)N1CCNCC1>>C(C)OC(=O)N1CCN(C(c2cc3cc(ccc3[nH]2)C(=O)N2CCN(C(C)C)CC2)=O)CC1',\n  'N1(C(=O)c2ccc3[nH]c(C(N4CCN(S(C)(=O)=O)CC4)=O)cc3c2)CCN(C(C)C)CC1.C1CN(C(OCC)=O)CCN1>>N1(CCN(C(c2cc3c([nH]c(C(N4CCN(C(=O)OCC)CC4)=O)c3)cc2)=O)CC1)C(C)C'],\n ['C(NCc1ccc(F)cc1)(=O)C(C)C(O)=O.c1cccc2-c3c(cccc3)C(N)C(=O)N(C)c21>>CN1C(=O)C(c2c(cccc2)-c2c1cccc2)NC(C(C(NCc1ccc(cc1)F)=O)C)=O',\n  'c1c(ccc(c1)CNC(C(C)C(O)=O)=O)F.CN1c2ccccc2-c2ccccc2C(C1=O)N>>CN1C(=O)C(c2c(cccc2)-c2c1cccc2)NC(C(C(NCc1ccc(cc1)F)=O)C)=O',\n  'C(O)(=O)C(C)C(=O)NCc1ccc(cc1)F.O=C1C(c2c(cccc2)-c2c(N1C)cccc2)N>>C(C(C(NC1C(N(c2ccccc2-c2c1cccc2)C)=O)=O)C)(=O)NCc1ccc(cc1)F',\n  'O=C(NCc1ccc(cc1)F)C(C(=O)O)C.c1cccc2c1N(C(C(N)c1c-2cccc1)=O)C>>O=C(C(C(=O)NCc1ccc(cc1)F)C)NC1C(=O)N(c2ccccc2-c2ccccc21)C',\n  'c1c(ccc(c1)CNC(C(C)C(O)=O)=O)F.c1cc2c(-c3c(N(C)C(C2N)=O)cccc3)cc1>>Fc1ccc(CNC(C(C)C(=O)NC2c3c(-c4ccccc4N(C)C2=O)cccc3)=O)cc1',\n  'O=C(NCc1ccc(cc1)F)C(C(=O)O)C.CN1c2ccccc2-c2ccccc2C(C1=O)N>>O=C(C(C(=O)NCc1ccc(cc1)F)C)NC1C(=O)N(c2ccccc2-c2ccccc21)C',\n  'C(O)(=O)C(C)C(=O)NCc1ccc(cc1)F.c1ccc2-c3c(cccc3)C(N)C(N(c2c1)C)=O>>C(C(=O)NC1C(=O)N(c2c(-c3ccccc13)cccc2)C)(C)C(NCc1ccc(cc1)F)=O',\n  'C(NCc1ccc(F)cc1)(=O)C(C)C(O)=O.N1(c2c(-c3ccccc3C(N)C1=O)cccc2)C>>N(C1c2c(-c3ccccc3N(C)C1=O)cccc2)C(C(C(NCc1ccc(cc1)F)=O)C)=O',\n  'C(C(C(NCc1ccc(cc1)F)=O)C)(=O)O.c1ccc2-c3c(cccc3)C(N)C(N(c2c1)C)=O>>N(C1c2c(-c3ccccc3N(C)C1=O)cccc2)C(C(C(NCc1ccc(cc1)F)=O)C)=O',\n  'C(O)(=O)C(C)C(=O)NCc1ccc(cc1)F.c1c2c(N(C(C(c3c-2cccc3)N)=O)C)ccc1>>Fc1ccc(CNC(C(C)C(=O)NC2c3ccccc3-c3ccccc3N(C2=O)C)=O)cc1'],\n ['C1N(c2cnc(cc2)N)CCN(C1)C(C)=O.c1(C(F)(F)F)cc(ccc1Br)CC(O)=O>>c1c(NC(=O)Cc2cc(c(cc2)Br)C(F)(F)F)ncc(c1)N1CCN(CC1)C(C)=O',\n  'C(=O)(C)N1CCN(c2cnc(cc2)N)CC1.c1(c(Br)ccc(c1)CC(=O)O)C(F)(F)F>>N1(C(=O)C)CCN(CC1)c1cnc(cc1)NC(Cc1cc(c(cc1)Br)C(F)(F)F)=O',\n  'O=C(N1CCN(CC1)c1ccc(N)nc1)C.FC(F)(c1c(Br)ccc(CC(O)=O)c1)F>>FC(F)(c1cc(ccc1Br)CC(Nc1ccc(N2CCN(CC2)C(C)=O)cn1)=O)F',\n  'C1CN(CCN1C(C)=O)c1cnc(cc1)N.c1(C(F)(F)F)cc(ccc1Br)CC(O)=O>>O=C(Nc1ncc(N2CCN(CC2)C(C)=O)cc1)Cc1cc(c(cc1)Br)C(F)(F)F',\n  'Nc1ncc(cc1)N1CCN(C(C)=O)CC1.FC(F)(c1c(Br)ccc(CC(O)=O)c1)F>>FC(F)(c1cc(ccc1Br)CC(Nc1ccc(N2CCN(CC2)C(C)=O)cn1)=O)F',\n  'O=C(N1CCN(c2cnc(cc2)N)CC1)C.c1(C(F)(F)F)cc(ccc1Br)CC(O)=O>>O=C(N1CCN(c2ccc(nc2)NC(Cc2ccc(c(C(F)(F)F)c2)Br)=O)CC1)C',\n  'N1(c2cnc(N)cc2)CCN(CC1)C(C)=O.c1c(cc(c(Br)c1)C(F)(F)F)CC(=O)O>>c1c(NC(=O)Cc2cc(c(cc2)Br)C(F)(F)F)ncc(c1)N1CCN(CC1)C(C)=O',\n  'O=C(N1CCN(CC1)c1cnc(N)cc1)C.c1cc(Br)c(C(F)(F)F)cc1CC(O)=O>>CC(N1CCN(CC1)c1ccc(nc1)NC(Cc1cc(C(F)(F)F)c(Br)cc1)=O)=O',\n  'C1CN(CCN1C(C)=O)c1cnc(cc1)N.c1cc(Br)c(C(F)(F)F)cc1CC(O)=O>>CC(N1CCN(CC1)c1ccc(nc1)NC(Cc1cc(C(F)(F)F)c(Br)cc1)=O)=O',\n  'N1(c2cnc(N)cc2)CCN(CC1)C(C)=O.C(c1ccc(c(c1)C(F)(F)F)Br)C(O)=O>>c1c(NC(=O)Cc2cc(c(cc2)Br)C(F)(F)F)ncc(c1)N1CCN(CC1)C(C)=O']]"
     },
     "execution_count": 6,
     "metadata": {},
     "output_type": "execute_result"
    }
   ],
   "source": [
    "enumerator = ReactionSmilesLevenshtein(reaction_smiles=reaction_smiles, remove_duplicates=True, seed=123, n_jobs=1, verbose=0)\n",
    "enumerated_reaction_smiles = enumerator.enumerate(n_max=10)\n",
    "enumerated_reaction_smiles"
   ],
   "metadata": {
    "collapsed": false,
    "pycharm": {
     "name": "#%%\n"
    }
   }
  },
  {
   "cell_type": "markdown",
   "source": [
    "**Let’s see the enumerated reaction SMILES for the first reaction:**"
   ],
   "metadata": {
    "collapsed": false,
    "pycharm": {
     "name": "#%% md\n"
    }
   }
  },
  {
   "cell_type": "code",
   "execution_count": 7,
   "outputs": [
    {
     "name": "stdout",
     "output_type": "stream",
     "text": [
      "Original reaction SMILES: CC(C)C[Mg+].CON(C)C(=O)c1ccc(O)nc1>>CC(C)CC(=O)c1ccc(O)nc1\n",
      "New enumerated SMILES: ['C(C[Mg+])(C)C.CN(OC)C(=O)c1ccc(nc1)O>>C(CC(=O)c1cnc(cc1)O)(C)C', 'C(C)(C)C[Mg+].O=C(c1cnc(cc1)O)N(C)OC>>O=C(c1cnc(cc1)O)CC(C)C', 'C(C[Mg+])(C)C.O(C)N(C)C(=O)c1cnc(cc1)O>>C(CC(=O)c1cnc(cc1)O)(C)C', 'CC(C)C[Mg+].O(C)N(C)C(=O)c1cnc(cc1)O>>C(C(C)C)C(=O)c1cnc(O)cc1', 'CC(C)C[Mg+].c1c(ncc(c1)C(=O)N(OC)C)O>>c1c(ncc(c1)C(=O)CC(C)C)O', 'CC(C[Mg+])C.CN(OC)C(=O)c1ccc(nc1)O>>C(CC(=O)c1cnc(cc1)O)(C)C', 'CC(C[Mg+])C.c1cc(cnc1O)C(=O)N(C)OC>>c1cc(cnc1O)C(=O)CC(C)C', '[Mg+]CC(C)C.CN(OC)C(=O)c1ccc(nc1)O>>C(CC(=O)c1cnc(cc1)O)(C)C', 'C(C(C)C)[Mg+].O=C(c1cnc(cc1)O)N(C)OC>>O=C(c1cnc(cc1)O)CC(C)C', 'C(C(C)C)[Mg+].O(C)N(C)C(=O)c1cnc(cc1)O>>C(C(C)C)C(=O)c1cnc(O)cc1']\n"
     ]
    }
   ],
   "source": [
    "original_reaction_smiles = reaction_smiles[0]\n",
    "print(f\"Original reaction SMILES: {original_reaction_smiles}\")\n",
    "\n",
    "new_enumerated_reaction_smiles = enumerated_reaction_smiles[0]\n",
    "print(f\"New enumerated SMILES: {new_enumerated_reaction_smiles}\")"
   ],
   "metadata": {
    "collapsed": false,
    "pycharm": {
     "name": "#%%\n"
    }
   }
  }
 ],
 "metadata": {
  "kernelspec": {
   "display_name": "Python 3",
   "language": "python",
   "name": "python3"
  },
  "language_info": {
   "codemirror_mode": {
    "name": "ipython",
    "version": 2
   },
   "file_extension": ".py",
   "mimetype": "text/x-python",
   "name": "python",
   "nbconvert_exporter": "python",
   "pygments_lexer": "ipython2",
   "version": "2.7.6"
  }
 },
 "nbformat": 4,
 "nbformat_minor": 0
}